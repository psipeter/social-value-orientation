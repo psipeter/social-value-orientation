{
 "cells": [
  {
   "cell_type": "code",
   "execution_count": 1,
   "id": "690089a2",
   "metadata": {},
   "outputs": [],
   "source": [
    "import numpy as np\n",
    "import pandas as pd\n",
    "import matplotlib.pyplot as plot\n",
    "import matplotlib.pyplot as plt\n",
    "import seaborn as sns\n",
    "import time\n",
    "from statannotations.Annotator import Annotator\n",
    "from matplotlib.ticker import FormatStrFormatter\n",
    "\n",
    "from game import *\n",
    "from utils import *\n",
    "from plots import *\n",
    "from agents import *\n",
    "from T4T import *\n",
    "\n",
    "palette = sns.color_palette(\"colorblind\")\n",
    "sns.set_palette(palette)\n",
    "sns.set(context='paper', style='white', font='CMU Serif', rc={'font.size':12, 'mathtext.fontset': 'cm'})"
   ]
  },
  {
   "cell_type": "code",
   "execution_count": 2,
   "id": "7365cf6e",
   "metadata": {},
   "outputs": [],
   "source": [
    "def makePopulation(args):\n",
    "    rng = np.random.RandomState(seed=args['popSeed'])\n",
    "    agents = []\n",
    "    for n in range(args['nAgents']):\n",
    "        if args[\"architecture\"]==\"DQN\":\n",
    "            params = {\n",
    "                \"nActions\": 11 if args['player']=='investor' else 31,\n",
    "                \"nNeurons\": int(rng.normal(args['nNeurons'], 0.2*args['nNeurons'])),\n",
    "                \"tau\": rng.normal(args['tau'], 0.2*args['tau']),\n",
    "                \"alpha\": rng.normal(args['alpha'], 0.2*args['alpha']),\n",
    "                \"gamma\": rng.normal(args['gamma'], 0.2*args['gamma']),\n",
    "                \"explore\": args['explore'],\n",
    "                \"update\": args['update'],\n",
    "                \"w_s\": args['w_s'],\n",
    "                \"w_i\": rng.uniform(0, args['w_i']),\n",
    "                \"w_o\": rng.uniform(0, args['w_o']),\n",
    "            }\n",
    "            agent = DQN(args['player'], ID=\"DQN\"+str(n), seed=n, nGames=15, **params)\n",
    "        elif args[\"architecture\"]==\"IBL\":\n",
    "            params = {\n",
    "                \"nActions\": 11 if args['player']=='investor' else 31,\n",
    "                \"decay\": np.max([0, rng.normal(args['decay'], 0.2*args['decay'])]),\n",
    "                \"sigma\": rng.normal(args['sigma'], 0.2*args['sigma']),\n",
    "                \"thrA\": rng.normal(args['thrA'], 0.2),\n",
    "                \"tau\": rng.normal(args['tau'], 0.2*args['tau']),\n",
    "                \"gamma\": rng.normal(args['gamma'], 0.2*args['gamma']),\n",
    "                \"explore\": args['explore'],\n",
    "                \"update\": args['update'],\n",
    "                \"w_s\": args['w_s'],\n",
    "                \"w_i\": rng.uniform(0, args['w_i']),\n",
    "                \"w_o\": rng.uniform(0, args['w_o']),\n",
    "            }\n",
    "            agent = IBL(args['player'], ID=\"IBL\"+str(n), seed=n, nGames=15, **params)\n",
    "        elif args[\"architecture\"]==\"NEF\":\n",
    "            agent = NEF(args['player'], ID=\"NEF\"+str(n), seed=n, nGames=15, **params)\n",
    "        agents.append(agent)\n",
    "    return agents"
   ]
  },
  {
   "cell_type": "code",
   "execution_count": 3,
   "id": "74769d9a",
   "metadata": {},
   "outputs": [],
   "source": [
    "def selectLearners(agents, data, thr_slope=0.1, thr_p=0.1):\n",
    "    IDs = [agent.ID for agent in agents]\n",
    "    agentsSelected = []\n",
    "    IDsSelected = []\n",
    "    for i, ID in enumerate(IDs):\n",
    "        D1 = data.query('ID==@ID and player==\"investor\"')\n",
    "        res1 = scipy.stats.linregress(D1['game'], D1['coins'])\n",
    "        if res1.slope>thr_slope and res1.pvalue < thr_p:\n",
    "            agentsSelected.append(agents[i])\n",
    "            IDsSelected.append(ID)\n",
    "    print(f'{len(agentsSelected)} agents selected')\n",
    "    dataSelected = data.query(\"ID in @IDsSelected\")\n",
    "    return agentsSelected, dataSelected"
   ]
  },
  {
   "cell_type": "code",
   "execution_count": 4,
   "id": "a8b132d9",
   "metadata": {},
   "outputs": [],
   "source": [
    "def addSVO(agents, data):\n",
    "    dfs = []\n",
    "    for agent in agents:\n",
    "        ID, w_o, w_i = agent.ID, agent.w_o, agent.w_i\n",
    "        D = data.query(\"ID == @ID\").copy()\n",
    "        D['w_o'] = [w_o for _ in range(D.shape[0])]\n",
    "        D['w_i'] = [w_i for _ in range(D.shape[0])]\n",
    "        dfs.append(D)\n",
    "    labeled = pd.concat(dfs, ignore_index=True)\n",
    "    return labeled"
   ]
  },
  {
   "cell_type": "code",
   "execution_count": 5,
   "id": "b17b8931",
   "metadata": {},
   "outputs": [],
   "source": [
    "def addLabel(agents, data, thr):\n",
    "    IDs = [agent.ID for agent in agents]\n",
    "    w_is = [agent.w_i for agent in agents]\n",
    "    w_os = [agent.w_o for agent in agents]\n",
    "    nProself = 0\n",
    "    nProsocial = 0\n",
    "    dfs = []\n",
    "    for i, ID in enumerate(IDs):\n",
    "        if w_is[i] + w_os[i] > thr:\n",
    "            orientation = 'prosocial'\n",
    "            nProsocial += 1\n",
    "        else:\n",
    "            orientation = \"proself\"\n",
    "            nProself += 1\n",
    "        D = data.query(\"ID == @ID\").copy()\n",
    "        D['orientation'] = [orientation for _ in range(D.shape[0])]\n",
    "        dfs.append(D)\n",
    "    labeled = pd.concat(dfs, ignore_index=True)\n",
    "    print(\"proself agents:\", nProself)\n",
    "    print(\"prosocial agents:\", nProsocial)\n",
    "    return labeled"
   ]
  },
  {
   "cell_type": "code",
   "execution_count": 6,
   "id": "6bb06867",
   "metadata": {},
   "outputs": [],
   "source": [
    "def tTestAndPlot(emp, sim, args, dependent, nFinal=3):\n",
    "    player = args['player']\n",
    "    opponent = args['opponent']\n",
    "    gameFinal = 14 - nFinal\n",
    "    player2 = 'trustee' if player=='investor' else 'investor'\n",
    "    emp = emp.query('game>@gameFinal')\n",
    "    sim = sim.query('game>@gameFinal')\n",
    "    yticks = ((0, 0.2, 0.4, 0.6, 0.8, 1.0)) if dependent=='generosity' else ((0, 5, 10, 15))\n",
    "\n",
    "    fig, axes = plt.subplots(nrows=1, ncols=2, sharex=True, sharey=True, figsize=((6.38, 2)))\n",
    "    sns.violinplot(data=emp, x=\"orientation\", y=dependent, order=[\"proself\", \"prosocial\"], ax=axes[0], palette=palette[2:4], saturation=1, inner='quartile', cut=0, bw=0.2)\n",
    "    annot = Annotator(pairs=[(\"proself\", \"prosocial\")], data=emp, x='orientation', y=dependent, order=[\"proself\", \"prosocial\"], ax=axes[0], plot='violinplot')\n",
    "    annot.configure(test=\"t-test_ind\", loc='inside', verbose=1).apply_test().annotate()\n",
    "    axes[0].set(xlabel=None, title=f'humans vs {opponent} {player2}', yticks=yticks)\n",
    "\n",
    "    sns.violinplot(data=sim, x=\"orientation\", y=dependent, order=[\"proself\", \"prosocial\"], ax=axes[1], palette=palette[2:4], saturation=1, inner='quartile', cut=0, bw=0.2)\n",
    "    annot = Annotator(pairs=[(\"proself\", \"prosocial\")], data=sim, x='orientation', y=dependent, order=[\"proself\", \"prosocial\"], ax=axes[1], plot='violinplot')\n",
    "    annot.configure(test=\"t-test_ind\", loc='inside', verbose=1).apply_test().annotate()\n",
    "    axes[1].set(xlabel=None, ylabel=None, title=f'agent vs {opponent} {player2}', yticks=yticks)\n",
    "\n",
    "    sns.despine(fig=fig, ax=axes, top=True, right=True, left=False, bottom=False, offset=None, trim=False)\n",
    "    plt.tight_layout()\n",
    "    fig.savefig(f\"plots/{args['architecture']}_vs_{opponent}_{player2}_{dependent}.png\", dpi=600)"
   ]
  },
  {
   "cell_type": "code",
   "execution_count": 7,
   "id": "5edd1195",
   "metadata": {},
   "outputs": [],
   "source": [
    "def empSimOverlap(emp, sim, args):\n",
    "    if args['optimize_target']=='final':\n",
    "        gameFinal = args['nGames']-args['nFinal']\n",
    "        emp = emp.query('game>@gameFinal')\n",
    "        sim = sim.query('game>@gameFinal')\n",
    "    empGen = emp['generosity'].to_numpy()\n",
    "    simGen = sim['generosity'].to_numpy()\n",
    "    overlap = scipy.stats.ks_2samp(empGen, simGen)[0]\n",
    "    return overlap"
   ]
  },
  {
   "cell_type": "code",
   "execution_count": 8,
   "id": "95829e79",
   "metadata": {},
   "outputs": [],
   "source": [
    "def retestAndPlot(agents, sim, args):\n",
    "    IDs = [agent.ID for agent in agents]\n",
    "    for ID in IDs:\n",
    "        testT4T = sim['t4tSeed'].max()\n",
    "        S1 = sim.query('ID==@ID & t4tSeed==0')\n",
    "        S2 = sim.query('ID==@ID & t4tSeed==@testT4T')\n",
    "        fig, axes = plt.subplots(nrows=1, ncols=2, figsize=((6.38, 3)))\n",
    "        sns.histplot(data=S1, x='game', y='generosity', bins=(15, 11), binrange=((0, args['nGames']),(0, 1)), ax=axes[0], color=palette[0])\n",
    "        ax2 = axes[0].twinx()\n",
    "        sns.lineplot(data=S1, x='game', y='coins', ax=ax2, color=palette[1])\n",
    "        axes[0].set(title=f'{ID} vs {args[\"opponent\"]} trustee', xlabel='Game', ylabel='Generosity', yticks=((0.0, 0.2, 0.4, 0.6, 0.8, 1.0)))\n",
    "        ax2.set(ylabel='Score', yticks=((3,6,9,12,15)))\n",
    "        sns.histplot(data=S2, x='game', y='generosity', bins=(15, 11), binrange=((0, args['nGames']),(0, 1)), ax=axes[1], color=palette[0])\n",
    "        ax3 = axes[1].twinx()\n",
    "        sns.lineplot(data=S2, x='game', y='coins', ax=ax3, color=palette[1])\n",
    "        axes[1].set(title=f'{ID} vs {args[\"opponent\"]} trustee', xlabel='Game', ylabel='Generosity', yticks=((0.0, 0.2, 0.4, 0.6, 0.8, 1.0)))\n",
    "        ax3.set(ylabel='Score', yticks=((3,6,9,12,15)))\n",
    "        plt.tight_layout()\n",
    "        fig.savefig(f\"plots/{ID}_generalize.png\", dpi=600)\n",
    "        plt.close(\"all\")"
   ]
  },
  {
   "cell_type": "markdown",
   "id": "87bef52a",
   "metadata": {},
   "source": [
    "# vs Greedy Trustee"
   ]
  },
  {
   "cell_type": "code",
   "execution_count": 17,
   "id": "74e9cefc",
   "metadata": {},
   "outputs": [],
   "source": [
    "params = {\n",
    "    \"architecture\": \"DQN\",\n",
    "    \"player\": \"investor\",\n",
    "    \"opponent\": \"greedy\",\n",
    "    \"nAgents\": 20,\n",
    "    'nGames': 15,\n",
    "    \"explore\": 'exponential',\n",
    "    \"update\": 'Q-learning',\n",
    "    \"w_s\": 1,\n",
    "    \"w_o\": 0.2,\n",
    "    \"w_i\": 0.2,\n",
    "    \"popSeed\": 0,\n",
    "    \"nIter\": 5,\n",
    "}\n",
    "    \n",
    "params2 = {\n",
    "    \"nNeurons\": 70,\n",
    "    \"tau\": 17.1,\n",
    "    \"alpha\": 0.01,\n",
    "    \"gamma\": 0.4\n",
    "}\n",
    "\n",
    "args = params | params2\n",
    "\n",
    "agents = makePopulation(args)\n",
    "IDs = [agent.ID for agent in agents]\n",
    "\n",
    "rng = args['popSeed']\n",
    "dfs = []\n",
    "for i in range(args['nIter']+1):\n",
    "    for agent in agents: agent.reinitialize(args['player'])\n",
    "    df = run(agents, nGames=args['nGames'], opponent=args[\"opponent\"], t4tSeed=i).query(\"ID in @IDs\")\n",
    "    df['t4tSeed'] = [i for _ in range(df.shape[0])]\n",
    "    dfs.append(df)\n",
    "\n",
    "data = pd.concat(dfs, ignore_index=True)"
   ]
  },
  {
   "cell_type": "code",
   "execution_count": 18,
   "id": "604e5e6f",
   "metadata": {},
   "outputs": [
    {
     "name": "stdout",
     "output_type": "stream",
     "text": [
      "6 agents selected\n",
      "proself agents: 4\n",
      "prosocial agents: 2\n"
     ]
    }
   ],
   "source": [
    "pop, selected = selectLearners(agents, data)\n",
    "sim = addLabel(pop, selected, thr=0.2)\n",
    "sim.to_pickle(f\"data/DQN_vs_greedy_trustee_generosity.pkl\")"
   ]
  },
  {
   "cell_type": "code",
   "execution_count": 19,
   "id": "56a2022c",
   "metadata": {},
   "outputs": [
    {
     "name": "stdout",
     "output_type": "stream",
     "text": [
      "p-value annotation legend:\n",
      "      ns: p <= 1.00e+00\n",
      "       *: 1.00e-02 < p <= 5.00e-02\n",
      "      **: 1.00e-03 < p <= 1.00e-02\n",
      "     ***: 1.00e-04 < p <= 1.00e-03\n",
      "    ****: p <= 1.00e-04\n",
      "\n",
      "proself vs. prosocial: t-test independent samples, P_val:3.526e-01 t=-9.302e-01\n",
      "p-value annotation legend:\n",
      "      ns: p <= 1.00e+00\n",
      "       *: 1.00e-02 < p <= 5.00e-02\n",
      "      **: 1.00e-03 < p <= 1.00e-02\n",
      "     ***: 1.00e-04 < p <= 1.00e-03\n",
      "    ****: p <= 1.00e-04\n",
      "\n",
      "proself vs. prosocial: t-test independent samples, P_val:4.690e-01 t=-7.247e-01\n"
     ]
    },
    {
     "data": {
      "image/png": "[encoded data removed]",
      "text/plain": [
       "<Figure size 638x200 with 2 Axes>"
      ]
     },
     "metadata": {},
     "output_type": "display_data"
    }
   ],
   "source": [
    "player = args['player']\n",
    "opponent = args['opponent']\n",
    "emp = pd.read_pickle(\"data/human_data_cleaned.pkl\").query('player==@player & opponent==@opponent')\n",
    "tTestAndPlot(emp, sim, args, 'generosity')"
   ]
  },
  {
   "cell_type": "code",
   "execution_count": 20,
   "id": "7caaa853",
   "metadata": {},
   "outputs": [],
   "source": [
    "retestAndPlot(pop, sim, args)"
   ]
  },
  {
   "cell_type": "code",
   "execution_count": null,
   "id": "435fa5d9",
   "metadata": {},
   "outputs": [],
   "source": []
  }
 ],
 "metadata": {
  "kernelspec": {
   "display_name": "Python 3 (ipykernel)",
   "language": "python",
   "name": "python3"
  },
  "language_info": {
   "codemirror_mode": {
    "name": "ipython",
    "version": 3
   },
   "file_extension": ".py",
   "mimetype": "text/x-python",
   "name": "python",
   "nbconvert_exporter": "python",
   "pygments_lexer": "ipython3",
   "version": "3.10.6"
  }
 },
 "nbformat": 4,
 "nbformat_minor": 5
}
