{
 "cells": [
  {
   "cell_type": "code",
   "execution_count": 5,
   "id": "690089a2",
   "metadata": {},
   "outputs": [],
   "source": [
    "import numpy as np\n",
    "import pandas as pd\n",
    "import matplotlib.pyplot as plot\n",
    "import matplotlib.pyplot as plt\n",
    "import seaborn as sns\n",
    "import time\n",
    "import json\n",
    "from statannotations.Annotator import Annotator\n",
    "from matplotlib.ticker import FormatStrFormatter\n",
    "\n",
    "from game import *\n",
    "from utils import *\n",
    "from plots import *\n",
    "from agents import *\n",
    "from T4T import *\n",
    "from nni_pop import *\n",
    "\n",
    "palette = sns.color_palette(\"colorblind\")\n",
    "sns.set_palette(palette)\n",
    "sns.set(context='paper', style='white', font='CMU Serif', rc={'font.size':12, 'mathtext.fontset': 'cm'})"
   ]
  },
  {
   "cell_type": "code",
   "execution_count": 6,
   "id": "213f8d4e",
   "metadata": {},
   "outputs": [],
   "source": [
    "def rerun(agents, args, t4tSeedStart=0):\n",
    "    dfs = []\n",
    "    for i in range(args['nTest']):\n",
    "        print(f'test {i}')\n",
    "        for agent in agents:\n",
    "            agent.reinitialize(args['player'])\n",
    "        df = run(agents, nGames=args['nGames'], opponent=args[\"opponent\"], t4tSeed=t4tSeedStart+i).query(\"ID in @IDs\")\n",
    "        df['t4tSeed'] = [t4tSeedStart+i for _ in range(df.shape[0])]\n",
    "        dfs.append(df)\n",
    "    data = pd.concat(dfs, ignore_index=True)\n",
    "    return data"
   ]
  },
  {
   "cell_type": "code",
   "execution_count": 7,
   "id": "fcf8aa7a",
   "metadata": {},
   "outputs": [],
   "source": [
    "def tTestAndPlot(emp, sim, args, dependent):\n",
    "    player = args['player']\n",
    "    opponent = args['opponent']\n",
    "    gameFinal = 14 - args['nFinal']\n",
    "    player2 = 'trustee' if player=='investor' else 'investor'\n",
    "    emp = emp.query('game>@gameFinal')\n",
    "    sim = sim.query('game>@gameFinal')\n",
    "    yticks = ((0, 0.2, 0.4, 0.6, 0.8, 1.0)) if dependent=='generosity' else ((0, 5, 10, 15))\n",
    "\n",
    "    fig, axes = plt.subplots(nrows=1, ncols=2, sharex=True, sharey=True, figsize=((6.38, 2)))\n",
    "    sns.violinplot(data=emp, x=\"orientation\", y=dependent, order=[\"proself\", \"prosocial\"], ax=axes[0], palette=palette[2:4], saturation=1, inner='quartile', cut=0, bw=0.2)\n",
    "    annot = Annotator(pairs=[(\"proself\", \"prosocial\")], data=emp, x='orientation', y=dependent, order=[\"proself\", \"prosocial\"], ax=axes[0], plot='violinplot')\n",
    "    annot.configure(test=\"t-test_ind\", loc='inside', verbose=1).apply_test().annotate()\n",
    "    axes[0].set(xlabel=None, title=f'humans vs {opponent} {player2}', yticks=yticks)\n",
    "\n",
    "    sns.violinplot(data=sim, x=\"orientation\", y=dependent, order=[\"proself\", \"prosocial\"], ax=axes[1], palette=palette[2:4], saturation=1, inner='quartile', cut=0, bw=0.2)\n",
    "    annot = Annotator(pairs=[(\"proself\", \"prosocial\")], data=sim, x='orientation', y=dependent, order=[\"proself\", \"prosocial\"], ax=axes[1], plot='violinplot')\n",
    "    annot.configure(test=\"t-test_ind\", loc='inside', verbose=1).apply_test().annotate()\n",
    "    axes[1].set(xlabel=None, ylabel=None, title=f'agent vs {opponent} {player2}', yticks=yticks)\n",
    "\n",
    "    sns.despine(fig=fig, ax=axes, top=True, right=True, left=False, bottom=False, offset=None, trim=False)\n",
    "    plt.tight_layout()\n",
    "    fig.savefig(f\"plots/{args['architecture']}_vs_{opponent}_{player2}_{dependent}.png\", dpi=600)"
   ]
  },
  {
   "cell_type": "code",
   "execution_count": 8,
   "id": "9dde9803",
   "metadata": {},
   "outputs": [],
   "source": [
    "def LTPlot(agents, sim, args):\n",
    "    player2 = 'trustee' if args['player']=='investor' else 'investor'\n",
    "    IDs = [agent.ID for agent in agents]\n",
    "    for ID in IDs:\n",
    "        fig, axes = plt.subplots(nrows=1, ncols=1, figsize=((6.38, 2)))\n",
    "        sns.histplot(data=sim.query(\"ID==@ID\"), x='game', y='generosity', bins=(15, 11), binrange=((0, args['nGames']),(0, 1)), ax=axes, color=palette[0])\n",
    "        ax2 = axes.twinx()\n",
    "        sns.lineplot(data=sim.query(\"ID==@ID\"), x='game', y='coins', ax=ax2, color=palette[1])\n",
    "        axes.set(title=f'{ID} vs {args[\"opponent\"]} trustee',\n",
    "            xlabel='Game', ylabel='Generosity', xticks=((0,5,10,15)), yticks=((0.0, 0.2, 0.4, 0.6, 0.8, 1.0)))\n",
    "        ax2.set(ylabel='Score', yticks=((3,6,9,12,15)))\n",
    "        plt.tight_layout()\n",
    "        fig.savefig(f\"plots/{ID}_vs_{opponent}_{player2}_LT.png\", dpi=600)\n",
    "        plt.close(\"all\")"
   ]
  },
  {
   "cell_type": "code",
   "execution_count": 9,
   "id": "21404c53",
   "metadata": {},
   "outputs": [],
   "source": [
    "def generalizePlot(agents, sim, args):\n",
    "    IDs = [agent.ID for agent in agents]\n",
    "    nTrain = args['nTrain']\n",
    "    for ID in IDs:\n",
    "        testT4T = sim['t4tSeed'].max()\n",
    "        S1 = sim.query('ID==@ID & t4tSeed<@nTrain')\n",
    "        S2 = sim.query('ID==@ID & t4tSeed>=@nTrain')\n",
    "        fig, axes = plt.subplots(nrows=1, ncols=2, figsize=((6.38, 3)))\n",
    "        sns.histplot(data=S1, x='game', y='generosity', bins=(15, 11), binrange=((0, args['nGames']),(0, 1)), ax=axes[0], color=palette[0])\n",
    "        ax2 = axes[0].twinx()\n",
    "        sns.lineplot(data=S1, x='game', y='coins', ax=ax2, color=palette[1])\n",
    "        axes[0].set(title=f'{ID} vs {args[\"opponent\"]} trustee', xlabel='Game', ylabel='Generosity', yticks=((0.0, 0.2, 0.4, 0.6, 0.8, 1.0)))\n",
    "        ax2.set(ylabel='Score', yticks=((3,6,9,12,15)))\n",
    "        sns.histplot(data=S2, x='game', y='generosity', bins=(15, 11), binrange=((0, args['nGames']),(0, 1)), ax=axes[1], color=palette[0])\n",
    "        ax3 = axes[1].twinx()\n",
    "        sns.lineplot(data=S2, x='game', y='coins', ax=ax3, color=palette[1])\n",
    "        axes[1].set(title=f'{ID} vs {args[\"opponent\"]} trustee', xlabel='Game', ylabel='Generosity', yticks=((0.0, 0.2, 0.4, 0.6, 0.8, 1.0)))\n",
    "        ax3.set(ylabel='Score', yticks=((3,6,9,12,15)))\n",
    "        plt.tight_layout()\n",
    "        fig.savefig(f\"plots/{ID}_generalize.png\", dpi=600)\n",
    "        plt.close(\"all\")"
   ]
  },
  {
   "cell_type": "code",
   "execution_count": 25,
   "id": "d862f5db",
   "metadata": {},
   "outputs": [
    {
     "name": "stdout",
     "output_type": "stream",
     "text": [
      "{'popSeed': 59, 'decay': 0.4, 'sigma': 0.23, 'thrA': -1.6500000000000001, 'gamma': 0.09} 0.410132259919494\n"
     ]
    }
   ],
   "source": [
    "f = open('data/IBLpop')\n",
    "result = json.load(f)\n",
    "min_loss = 1000\n",
    "params = {}\n",
    "for trial in result:\n",
    "    loss = float(trial['value'])\n",
    "    if loss <= min_loss:\n",
    "        min_loss = loss\n",
    "        params = trial['parameter']\n",
    "print(params, min_loss)"
   ]
  },
  {
   "cell_type": "markdown",
   "id": "7fc7d8d5",
   "metadata": {},
   "source": [
    "# DQN vs Greedy Trustee"
   ]
  },
  {
   "cell_type": "code",
   "execution_count": 30,
   "id": "fbddf9c0",
   "metadata": {},
   "outputs": [],
   "source": [
    "f = open('fixed_space_pop.json')\n",
    "params = json.load(f)\n",
    "    \n",
    "params2 = {\n",
    "    \"popSeed\": 296,\n",
    "    \"tau\": 19.1,\n",
    "    \"alpha\": 0.02,\n",
    "    \"gamma\": 0.71\n",
    "}\n",
    "\n",
    "args = params | params2"
   ]
  },
  {
   "cell_type": "code",
   "execution_count": 27,
   "id": "4e59acd8",
   "metadata": {},
   "outputs": [],
   "source": [
    "agents = makePopulation(args)\n",
    "IDs = [agent.ID for agent in agents]\n",
    "\n",
    "rng = args['popSeed']\n",
    "dfs = []\n",
    "for i in range(args['nIter']+1):\n",
    "    for agent in agents: agent.reinitialize(args['player'])\n",
    "    df = run(agents, nGames=args['nGames'], opponent=args[\"opponent\"], t4tSeed=i).query(\"ID in @IDs\")\n",
    "    df['t4tSeed'] = [i for _ in range(df.shape[0])]\n",
    "    dfs.append(df)\n",
    "\n",
    "data = pd.concat(dfs, ignore_index=True)"
   ]
  },
  {
   "cell_type": "code",
   "execution_count": 31,
   "id": "a90caec9",
   "metadata": {},
   "outputs": [
    {
     "name": "stdout",
     "output_type": "stream",
     "text": [
      "124 agents selected\n",
      "proself 74, prosocial 50\n"
     ]
    }
   ],
   "source": [
    "pop, selected = selectLearners(agents, data)\n",
    "sim, nProself, nProsocial = addLabel(pop, selected, args)\n",
    "print(f\"proself {nProself}, prosocial {nProsocial}\")\n",
    "sim.to_pickle(f\"data/{params['architecture']}_vs_greedy_trustee_violin.pkl\")"
   ]
  },
  {
   "cell_type": "code",
   "execution_count": 32,
   "id": "39b931d0",
   "metadata": {},
   "outputs": [
    {
     "name": "stdout",
     "output_type": "stream",
     "text": [
      "p-value annotation legend:\n",
      "      ns: p <= 1.00e+00\n",
      "       *: 1.00e-02 < p <= 5.00e-02\n",
      "      **: 1.00e-03 < p <= 1.00e-02\n",
      "     ***: 1.00e-04 < p <= 1.00e-03\n",
      "    ****: p <= 1.00e-04\n",
      "\n",
      "proself vs. prosocial: t-test independent samples, P_val:3.526e-01 t=-9.302e-01\n",
      "p-value annotation legend:\n",
      "      ns: p <= 1.00e+00\n",
      "       *: 1.00e-02 < p <= 5.00e-02\n",
      "      **: 1.00e-03 < p <= 1.00e-02\n",
      "     ***: 1.00e-04 < p <= 1.00e-03\n",
      "    ****: p <= 1.00e-04\n",
      "\n",
      "proself vs. prosocial: t-test independent samples, P_val:1.082e-01 t=1.607e+00\n"
     ]
    },
    {
     "data": {
      "image/png": "[encoded data removed]",
      "text/plain": [
       "<Figure size 638x200 with 2 Axes>"
      ]
     },
     "metadata": {},
     "output_type": "display_data"
    }
   ],
   "source": [
    "player = args['player']\n",
    "opponent = args['opponent']\n",
    "emp = pd.read_pickle(\"data/human_data_cleaned.pkl\").query('player==@player & opponent==@opponent')\n",
    "tTestAndPlot(emp, sim, args, 'generosity')"
   ]
  },
  {
   "cell_type": "code",
   "execution_count": 33,
   "id": "b74c6cda",
   "metadata": {},
   "outputs": [],
   "source": [
    "generalizePlot(pop, sim, args)"
   ]
  },
  {
   "cell_type": "code",
   "execution_count": 56,
   "id": "56d59789",
   "metadata": {},
   "outputs": [],
   "source": [
    "# for agent in pop:\n",
    "#     aid = agent.ID\n",
    "#     print(agent.ID, agent.w_i, agent.w_o)\n",
    "#     print(sim.query(\"ID==@aid\")['orientation'].unique())"
   ]
  },
  {
   "cell_type": "code",
   "execution_count": 18,
   "id": "5b5a8d63",
   "metadata": {},
   "outputs": [],
   "source": [
    "params = {\n",
    "    \"architecture\": \"DQN\",\n",
    "    \"player\": \"investor\",\n",
    "    \"opponent\": \"greedy\",\n",
    "    \"nAgents\": 200,\n",
    "    \"nIter\": 3,\n",
    "    'nGames': 15,\n",
    "    \"explore\": 'linear',\n",
    "    \"update\": 'Q-learning',\n",
    "    \"w_s\": 1,\n",
    "    \"w_o\": 0.3,\n",
    "    \"w_i\": 0.3,\n",
    "    \"nFinal\": 3,\n",
    "    \"optimize_target\": 'final',\n",
    "    'overlap_test': 'ks',\n",
    "    \"popSize\": 30,\n",
    "    'tau':0,\n",
    "    'nNeurons':50,\n",
    "}\n",
    "\n",
    "params2 = {\n",
    "    \"popSeed\": 356,\n",
    "    \"alpha\": 0.002,\n",
    "    \"gamma\": 0.1\n",
    "}\n",
    "\n",
    "args = params | params2"
   ]
  },
  {
   "cell_type": "code",
   "execution_count": 19,
   "id": "afee0555",
   "metadata": {},
   "outputs": [],
   "source": [
    "agents = makePopulation(args)\n",
    "IDs = [agent.ID for agent in agents]\n",
    "\n",
    "rng = args['popSeed']\n",
    "dfs = []\n",
    "for i in range(args['nIter']+1):\n",
    "    for agent in agents: agent.reinitialize(args['player'])\n",
    "    df = run(agents, nGames=args['nGames'], opponent=args[\"opponent\"], t4tSeed=i).query(\"ID in @IDs\")\n",
    "    df['t4tSeed'] = [i for _ in range(df.shape[0])]\n",
    "    dfs.append(df)\n",
    "\n",
    "data = pd.concat(dfs, ignore_index=True)"
   ]
  },
  {
   "cell_type": "code",
   "execution_count": 20,
   "id": "46db36aa",
   "metadata": {},
   "outputs": [
    {
     "name": "stdout",
     "output_type": "stream",
     "text": [
      "74 agents selected\n",
      "proself 38, prosocial 36\n"
     ]
    }
   ],
   "source": [
    "pop, selected = selectLearners(agents, data)\n",
    "sim, nProself, nProsocial = addLabel(pop, selected, args)\n",
    "print(f\"proself {nProself}, prosocial {nProsocial}\")\n",
    "sim.to_pickle(f\"data/{params['architecture']}_vs_greedy_trustee_violin.pkl\")"
   ]
  },
  {
   "cell_type": "code",
   "execution_count": 21,
   "id": "6fd078f5",
   "metadata": {},
   "outputs": [
    {
     "name": "stdout",
     "output_type": "stream",
     "text": [
      "p-value annotation legend:\n",
      "      ns: p <= 1.00e+00\n",
      "       *: 1.00e-02 < p <= 5.00e-02\n",
      "      **: 1.00e-03 < p <= 1.00e-02\n",
      "     ***: 1.00e-04 < p <= 1.00e-03\n",
      "    ****: p <= 1.00e-04\n",
      "\n",
      "proself vs. prosocial: t-test independent samples, P_val:3.526e-01 t=-9.302e-01\n",
      "p-value annotation legend:\n",
      "      ns: p <= 1.00e+00\n",
      "       *: 1.00e-02 < p <= 5.00e-02\n",
      "      **: 1.00e-03 < p <= 1.00e-02\n",
      "     ***: 1.00e-04 < p <= 1.00e-03\n",
      "    ****: p <= 1.00e-04\n",
      "\n",
      "proself vs. prosocial: t-test independent samples, P_val:9.893e-03 t=-2.581e+00\n"
     ]
    },
    {
     "data": {
      "image/png": "[encoded data removed]",
      "text/plain": [
       "<Figure size 638x200 with 2 Axes>"
      ]
     },
     "metadata": {},
     "output_type": "display_data"
    }
   ],
   "source": [
    "player = args['player']\n",
    "opponent = args['opponent']\n",
    "emp = pd.read_pickle(\"data/human_data_cleaned.pkl\").query('player==@player & opponent==@opponent')\n",
    "tTestAndPlot(emp, sim, args, 'generosity')"
   ]
  },
  {
   "cell_type": "code",
   "execution_count": 17,
   "id": "04eae2ae",
   "metadata": {},
   "outputs": [],
   "source": [
    "generalizePlot(pop, sim, args)"
   ]
  },
  {
   "cell_type": "markdown",
   "id": "8739b0cc",
   "metadata": {},
   "source": [
    "# IBL vs Greedy Trustee"
   ]
  },
  {
   "cell_type": "code",
   "execution_count": 29,
   "id": "620832bd",
   "metadata": {},
   "outputs": [],
   "source": [
    "params = {\n",
    "    \"architecture\": \"IBL\",\n",
    "    \"player\": \"investor\",\n",
    "    \"opponent\": \"greedy\",\n",
    "    \"nAgents\": 200,\n",
    "    \"nIter\": 3,\n",
    "    'nGames': 15,\n",
    "    \"explore\": 'linear',\n",
    "    \"update\": 'Q-learning',\n",
    "    \"w_s\": 1,\n",
    "    \"w_o\": 0.3,\n",
    "    \"w_i\": 0.3,\n",
    "    \"nFinal\": 3,\n",
    "    \"optimize_target\": 'final',\n",
    "    'overlap_test': 'rmse',\n",
    "    \"popSize\": 30,\n",
    "    \"tau\":0,\n",
    "}\n",
    "    \n",
    "params2 = {'popSeed': 59, 'decay': 0.4, 'sigma': 0.23, 'thrA': -1.65, 'gamma': 0.09}\n",
    "\n",
    "args = params | params2"
   ]
  },
  {
   "cell_type": "code",
   "execution_count": 30,
   "id": "5e0de613",
   "metadata": {},
   "outputs": [],
   "source": [
    "agents = makePopulation(args)\n",
    "IDs = [agent.ID for agent in agents]\n",
    "\n",
    "rng = args['popSeed']\n",
    "dfs = []\n",
    "for i in range(args['nIter']+1):\n",
    "    for agent in agents: agent.reinitialize(args['player'])\n",
    "    df = run(agents, nGames=args['nGames'], opponent=args[\"opponent\"], t4tSeed=i).query(\"ID in @IDs\")\n",
    "    df['t4tSeed'] = [i for _ in range(df.shape[0])]\n",
    "    dfs.append(df)\n",
    "\n",
    "data = pd.concat(dfs, ignore_index=True)"
   ]
  },
  {
   "cell_type": "code",
   "execution_count": 31,
   "id": "b20cd035",
   "metadata": {},
   "outputs": [
    {
     "name": "stdout",
     "output_type": "stream",
     "text": [
      "189 agents selected\n",
      "proself 115, prosocial 74\n"
     ]
    }
   ],
   "source": [
    "pop, selected = selectLearners(agents, data)\n",
    "sim, nProself, nProsocial = addLabel(pop, selected, args)\n",
    "print(f\"proself {nProself}, prosocial {nProsocial}\")\n",
    "sim.to_pickle(f\"data/{params['architecture']}_vs_greedy_trustee_violin.pkl\")"
   ]
  },
  {
   "cell_type": "code",
   "execution_count": 32,
   "id": "b2e56009",
   "metadata": {},
   "outputs": [
    {
     "name": "stdout",
     "output_type": "stream",
     "text": [
      "p-value annotation legend:\n",
      "      ns: p <= 1.00e+00\n",
      "       *: 1.00e-02 < p <= 5.00e-02\n",
      "      **: 1.00e-03 < p <= 1.00e-02\n",
      "     ***: 1.00e-04 < p <= 1.00e-03\n",
      "    ****: p <= 1.00e-04\n",
      "\n",
      "proself vs. prosocial: t-test independent samples, P_val:3.526e-01 t=-9.302e-01\n",
      "p-value annotation legend:\n",
      "      ns: p <= 1.00e+00\n",
      "       *: 1.00e-02 < p <= 5.00e-02\n",
      "      **: 1.00e-03 < p <= 1.00e-02\n",
      "     ***: 1.00e-04 < p <= 1.00e-03\n",
      "    ****: p <= 1.00e-04\n",
      "\n",
      "proself vs. prosocial: t-test independent samples, P_val:1.241e-86 t=-1.990e+01\n"
     ]
    },
    {
     "data": {
      "image/png": "[encoded data removed]",
      "text/plain": [
       "<Figure size 638x200 with 2 Axes>"
      ]
     },
     "metadata": {},
     "output_type": "display_data"
    }
   ],
   "source": [
    "player = args['player']\n",
    "opponent = args['opponent']\n",
    "emp = pd.read_pickle(\"data/human_data_cleaned.pkl\").query('player==@player & opponent==@opponent')\n",
    "tTestAndPlot(emp, sim, args, 'generosity')"
   ]
  },
  {
   "cell_type": "code",
   "execution_count": 34,
   "id": "abdf5268",
   "metadata": {},
   "outputs": [],
   "source": [
    "generalizePlot(pop, sim, args)"
   ]
  },
  {
   "cell_type": "markdown",
   "id": "4df2e571",
   "metadata": {},
   "source": [
    "# DQN vs Generous Trustee"
   ]
  },
  {
   "cell_type": "code",
   "execution_count": 26,
   "id": "108001e5",
   "metadata": {},
   "outputs": [],
   "source": [
    "f = open('fixed_space_pop.json')\n",
    "params = json.load(f)\n",
    "# params2 = {\n",
    "#     \"popSeed\": 690,\n",
    "#     \"tau\": 9.4,\n",
    "#     \"alpha\": 0.1299,\n",
    "#     \"gamma\": 0.2\n",
    "# }\n",
    "# params2 = {\n",
    "#     \"popSeed\": 89,\n",
    "#     \"tau\": 10.200000000000001,\n",
    "#     \"alpha\": 0.054,\n",
    "#     \"gamma\": 0.34\n",
    "# }\n",
    "# params2 = {\n",
    "#     \"popSeed\": 76,\n",
    "#     \"thrSVO\": 0.33,\n",
    "#     \"tau\": 10.4,\n",
    "#     \"alpha\": 0.195,\n",
    "#     \"gamma\": 0.77\n",
    "# }\n",
    "# params2 = {\n",
    "#     \"popSeed\": 76,\n",
    "#     \"thrSVO\": 0.31,\n",
    "#     \"tau\": 6.2,\n",
    "#     \"alpha\": 0.278,\n",
    "#     \"gamma\": 0.23\n",
    "# }\n",
    "params2 = {\n",
    "    \"popSeed\": 89,\n",
    "    \"thrSVO\": 0.33,\n",
    "    \"tau\": 12.100000000000001,\n",
    "    \"alpha\": 0.043000000000000003,\n",
    "    \"gamma\": 0.34\n",
    "}\n",
    "args = params | params2\n",
    "agents = makePopulation(args)\n",
    "IDs = [agent.ID for agent in agents]\n",
    "player = args['player']\n",
    "player2 = 'investor' if player=='trustee' else 'trustee'\n",
    "opponent = args['opponent']\n",
    "emp = pd.read_pickle(\"data/human_data_cleaned.pkl\").query('player==@player & opponent==@opponent')"
   ]
  },
  {
   "cell_type": "code",
   "execution_count": 27,
   "id": "e02af606",
   "metadata": {},
   "outputs": [
    {
     "name": "stdout",
     "output_type": "stream",
     "text": [
      "test 0\n"
     ]
    }
   ],
   "source": [
    "data = rerun(agents, args)"
   ]
  },
  {
   "cell_type": "code",
   "execution_count": 28,
   "id": "90ec314d",
   "metadata": {},
   "outputs": [
    {
     "name": "stdout",
     "output_type": "stream",
     "text": [
      "105 agents selected\n",
      "proself 57, prosocial 48\n",
      "p-value annotation legend:\n",
      "      ns: p <= 1.00e+00\n",
      "       *: 1.00e-02 < p <= 5.00e-02\n",
      "      **: 1.00e-03 < p <= 1.00e-02\n",
      "     ***: 1.00e-04 < p <= 1.00e-03\n",
      "    ****: p <= 1.00e-04\n",
      "\n",
      "proself vs. prosocial: t-test independent samples, P_val:5.268e-10 t=-6.361e+00\n",
      "p-value annotation legend:\n",
      "      ns: p <= 1.00e+00\n",
      "       *: 1.00e-02 < p <= 5.00e-02\n",
      "      **: 1.00e-03 < p <= 1.00e-02\n",
      "     ***: 1.00e-04 < p <= 1.00e-03\n",
      "    ****: p <= 1.00e-04\n",
      "\n",
      "proself vs. prosocial: t-test independent samples, P_val:3.209e-23 t=-1.009e+01\n"
     ]
    },
    {
     "data": {
      "image/png": "[encoded data removed]",
      "text/plain": [
       "<Figure size 638x200 with 2 Axes>"
      ]
     },
     "metadata": {},
     "output_type": "display_data"
    }
   ],
   "source": [
    "pop, selected = selectLearners(agents, data)\n",
    "sim, nProself, nProsocial = addLabel(pop, selected, args)\n",
    "print(f\"proself {nProself}, prosocial {nProsocial}\")\n",
    "tTestAndPlot(emp, sim, args, 'generosity')"
   ]
  },
  {
   "cell_type": "code",
   "execution_count": 29,
   "id": "3f386f73",
   "metadata": {},
   "outputs": [
    {
     "name": "stdout",
     "output_type": "stream",
     "text": [
      "0.27268170426065164\n",
      "0.225\n",
      "0.07695175438596491\n"
     ]
    }
   ],
   "source": [
    "overlapProself = overlap(emp.query(\"orientation=='proself'\"), sim.query(\"orientation=='proself'\"), args)\n",
    "overlapProsocial = overlap(emp.query(\"orientation=='prosocial'\"), sim.query(\"orientation=='prosocial'\"), args)\n",
    "penalty = 1 - overlap(sim.query(\"orientation=='proself'\"), sim.query(\"orientation=='prosocial'\"), args)\n",
    "print(overlapProself)\n",
    "print(overlapProsocial)\n",
    "print(args['penalizeSimilarity']*penalty)"
   ]
  },
  {
   "cell_type": "code",
   "execution_count": 30,
   "id": "7d67d841",
   "metadata": {},
   "outputs": [],
   "source": [
    "LTPlot(pop, sim, args)"
   ]
  },
  {
   "cell_type": "code",
   "execution_count": 31,
   "id": "0df73e84",
   "metadata": {},
   "outputs": [],
   "source": [
    "sim.to_pickle(f\"data/{params['architecture']}_vs_{opponent}_{player2}_violin.pkl\")"
   ]
  },
  {
   "cell_type": "markdown",
   "id": "cbd81080",
   "metadata": {},
   "source": [
    "# IBL vs Generous Trustee"
   ]
  },
  {
   "cell_type": "code",
   "execution_count": 40,
   "id": "6cfc4dff",
   "metadata": {},
   "outputs": [],
   "source": [
    "f = open('fixed_space_pop.json')\n",
    "params = json.load(f)\n",
    "params2 = {\n",
    "    \"popSeed\": 10,\n",
    "    \"thrSVO\": 0.23,\n",
    "    \"tau\": 1.6,\n",
    "    \"decay\": 1.35,\n",
    "    \"sigma\": 0.62,\n",
    "    \"thrA\": -1.48,\n",
    "    \"gamma\": 0.29\n",
    "}\n",
    "args = params | params2\n",
    "agents = makePopulation(args)\n",
    "IDs = [agent.ID for agent in agents]\n",
    "player = args['player']\n",
    "player2 = 'investor' if player=='trustee' else 'trustee'\n",
    "opponent = args['opponent']\n",
    "emp = pd.read_pickle(\"data/human_data_cleaned.pkl\").query('player==@player & opponent==@opponent')"
   ]
  },
  {
   "cell_type": "code",
   "execution_count": 41,
   "id": "6ee57193",
   "metadata": {},
   "outputs": [
    {
     "name": "stdout",
     "output_type": "stream",
     "text": [
      "test 0\n"
     ]
    }
   ],
   "source": [
    "data = rerun(agents, args)"
   ]
  },
  {
   "cell_type": "code",
   "execution_count": 42,
   "id": "74ab26e8",
   "metadata": {},
   "outputs": [
    {
     "name": "stdout",
     "output_type": "stream",
     "text": [
      "118 agents selected\n",
      "proself 34, prosocial 84\n",
      "p-value annotation legend:\n",
      "      ns: p <= 1.00e+00\n",
      "       *: 1.00e-02 < p <= 5.00e-02\n",
      "      **: 1.00e-03 < p <= 1.00e-02\n",
      "     ***: 1.00e-04 < p <= 1.00e-03\n",
      "    ****: p <= 1.00e-04\n",
      "\n",
      "proself vs. prosocial: t-test independent samples, P_val:5.268e-10 t=-6.361e+00\n",
      "p-value annotation legend:\n",
      "      ns: p <= 1.00e+00\n",
      "       *: 1.00e-02 < p <= 5.00e-02\n",
      "      **: 1.00e-03 < p <= 1.00e-02\n",
      "     ***: 1.00e-04 < p <= 1.00e-03\n",
      "    ****: p <= 1.00e-04\n",
      "\n",
      "proself vs. prosocial: t-test independent samples, P_val:4.251e-12 t=-6.977e+00\n"
     ]
    },
    {
     "data": {
      "image/png": "[encoded data removed]",
      "text/plain": [
       "<Figure size 638x200 with 2 Axes>"
      ]
     },
     "metadata": {},
     "output_type": "display_data"
    }
   ],
   "source": [
    "pop, selected = selectLearners(agents, data)\n",
    "sim, nProself, nProsocial = addLabel(pop, selected, args)\n",
    "print(f\"proself {nProself}, prosocial {nProsocial}\")\n",
    "tTestAndPlot(emp, sim, args, 'generosity')"
   ]
  },
  {
   "cell_type": "code",
   "execution_count": 43,
   "id": "72a16f75",
   "metadata": {},
   "outputs": [
    {
     "name": "stdout",
     "output_type": "stream",
     "text": [
      "0.2222689075630252\n",
      "0.4226190476190476\n",
      "0.12605042016806722\n"
     ]
    }
   ],
   "source": [
    "overlapProself = overlap(emp.query(\"orientation=='proself'\"), sim.query(\"orientation=='proself'\"), args)\n",
    "overlapProsocial = overlap(emp.query(\"orientation=='prosocial'\"), sim.query(\"orientation=='prosocial'\"), args)\n",
    "penalty = 1 - overlap(sim.query(\"orientation=='proself'\"), sim.query(\"orientation=='prosocial'\"), args)\n",
    "print(overlapProself)\n",
    "print(overlapProsocial)\n",
    "print(args['penalizeSimilarity']*penalty)"
   ]
  },
  {
   "cell_type": "code",
   "execution_count": null,
   "id": "c2d8cec5",
   "metadata": {},
   "outputs": [],
   "source": []
  }
 ],
 "metadata": {
  "kernelspec": {
   "display_name": "Python 3 (ipykernel)",
   "language": "python",
   "name": "python3"
  },
  "language_info": {
   "codemirror_mode": {
    "name": "ipython",
    "version": 3
   },
   "file_extension": ".py",
   "mimetype": "text/x-python",
   "name": "python",
   "nbconvert_exporter": "python",
   "pygments_lexer": "ipython3",
   "version": "3.10.6"
  }
 },
 "nbformat": 4,
 "nbformat_minor": 5
}
