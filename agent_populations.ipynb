{
 "cells": [
  {
   "cell_type": "code",
   "execution_count": 1,
   "id": "690089a2",
   "metadata": {},
   "outputs": [],
   "source": [
    "import numpy as np\n",
    "import pandas as pd\n",
    "import matplotlib.pyplot as plot\n",
    "import matplotlib.pyplot as plt\n",
    "import seaborn as sns\n",
    "import time\n",
    "from statannotations.Annotator import Annotator\n",
    "from matplotlib.ticker import FormatStrFormatter\n",
    "\n",
    "from game import *\n",
    "from utils import *\n",
    "from plots import *\n",
    "from agents import *\n",
    "from T4T import *\n",
    "from nni_pop import makePopulation, selectLearners, addSVO, addLabel, empSimOverlap\n",
    "\n",
    "palette = sns.color_palette(\"colorblind\")\n",
    "sns.set_palette(palette)\n",
    "sns.set(context='paper', style='white', font='CMU Serif', rc={'font.size':12, 'mathtext.fontset': 'cm'})"
   ]
  },
  {
   "cell_type": "code",
   "execution_count": 21,
   "id": "237eb45b",
   "metadata": {},
   "outputs": [],
   "source": [
    "def tTestAndPlot(emp, sim, args, dependent, nFinal=3):\n",
    "    player = args['player']\n",
    "    opponent = args['opponent']\n",
    "    gameFinal = 14 - nFinal\n",
    "    player2 = 'trustee' if player=='investor' else 'investor'\n",
    "    emp = emp.query('game>@gameFinal')\n",
    "    sim = sim.query('game>@gameFinal')\n",
    "    yticks = ((0, 0.2, 0.4, 0.6, 0.8, 1.0)) if dependent=='generosity' else ((0, 5, 10, 15))\n",
    "\n",
    "    fig, axes = plt.subplots(nrows=1, ncols=2, sharex=True, sharey=True, figsize=((6.38, 2)))\n",
    "    sns.violinplot(data=emp, x=\"orientation\", y=dependent, order=[\"proself\", \"prosocial\"], ax=axes[0], palette=palette[2:4], saturation=1, inner='quartile', cut=0, bw=0.2)\n",
    "    annot = Annotator(pairs=[(\"proself\", \"prosocial\")], data=emp, x='orientation', y=dependent, order=[\"proself\", \"prosocial\"], ax=axes[0], plot='violinplot')\n",
    "    annot.configure(test=\"t-test_ind\", loc='inside', verbose=1).apply_test().annotate()\n",
    "    axes[0].set(xlabel=None, title=f'humans vs {opponent} {player2}', yticks=yticks)\n",
    "\n",
    "    sns.violinplot(data=sim, x=\"orientation\", y=dependent, order=[\"proself\", \"prosocial\"], ax=axes[1], palette=palette[2:4], saturation=1, inner='quartile', cut=0, bw=0.2)\n",
    "    annot = Annotator(pairs=[(\"proself\", \"prosocial\")], data=sim, x='orientation', y=dependent, order=[\"proself\", \"prosocial\"], ax=axes[1], plot='violinplot')\n",
    "    annot.configure(test=\"t-test_ind\", loc='inside', verbose=1).apply_test().annotate()\n",
    "    axes[1].set(xlabel=None, ylabel=None, title=f'agent vs {opponent} {player2}', yticks=yticks)\n",
    "\n",
    "    sns.despine(fig=fig, ax=axes, top=True, right=True, left=False, bottom=False, offset=None, trim=False)\n",
    "    plt.tight_layout()\n",
    "    fig.savefig(f\"plots/{args['architecture']}_vs_{opponent}_{player2}_{dependent}.png\", dpi=600)"
   ]
  },
  {
   "cell_type": "code",
   "execution_count": 22,
   "id": "7f346c8a",
   "metadata": {},
   "outputs": [],
   "source": [
    "def generalizePlot(agents, sim, args):\n",
    "    IDs = [agent.ID for agent in agents]\n",
    "    for ID in IDs:\n",
    "        testT4T = sim['t4tSeed'].max()\n",
    "        S1 = sim.query('ID==@ID & t4tSeed==0')\n",
    "        S2 = sim.query('ID==@ID & t4tSeed==@testT4T')\n",
    "        fig, axes = plt.subplots(nrows=1, ncols=2, figsize=((6.38, 3)))\n",
    "        sns.histplot(data=S1, x='game', y='generosity', bins=(15, 11), binrange=((0, args['nGames']),(0, 1)), ax=axes[0], color=palette[0])\n",
    "        ax2 = axes[0].twinx()\n",
    "        sns.lineplot(data=S1, x='game', y='coins', ax=ax2, color=palette[1])\n",
    "        axes[0].set(title=f'{ID} vs {args[\"opponent\"]} trustee', xlabel='Game', ylabel='Generosity', yticks=((0.0, 0.2, 0.4, 0.6, 0.8, 1.0)))\n",
    "        ax2.set(ylabel='Score', yticks=((3,6,9,12,15)))\n",
    "        sns.histplot(data=S2, x='game', y='generosity', bins=(15, 11), binrange=((0, args['nGames']),(0, 1)), ax=axes[1], color=palette[0])\n",
    "        ax3 = axes[1].twinx()\n",
    "        sns.lineplot(data=S2, x='game', y='coins', ax=ax3, color=palette[1])\n",
    "        axes[1].set(title=f'{ID} vs {args[\"opponent\"]} trustee', xlabel='Game', ylabel='Generosity', yticks=((0.0, 0.2, 0.4, 0.6, 0.8, 1.0)))\n",
    "        ax3.set(ylabel='Score', yticks=((3,6,9,12,15)))\n",
    "        plt.tight_layout()\n",
    "        fig.savefig(f\"plots/{ID}_generalize.png\", dpi=600)\n",
    "        plt.close(\"all\")"
   ]
  },
  {
   "cell_type": "markdown",
   "id": "d43b7773",
   "metadata": {},
   "source": [
    "# DQN vs Greedy Trustee"
   ]
  },
  {
   "cell_type": "code",
   "execution_count": 24,
   "id": "e0886713",
   "metadata": {},
   "outputs": [],
   "source": [
    "params = {\n",
    "    \"architecture\": \"DQN\",\n",
    "    \"player\": \"investor\",\n",
    "    \"opponent\": \"greedy\",\n",
    "    \"nAgents\": 400,\n",
    "    \"nIter\": 3,\n",
    "    'nGames': 15,\n",
    "    \"explore\": 'exponential',\n",
    "    \"update\": 'Q-learning',\n",
    "    \"w_s\": 1,\n",
    "    \"w_o\": 0.3,\n",
    "    \"w_i\": 0.3,\n",
    "    \"nFinal\": 3,\n",
    "    \"optimize_target\": 'final',\n",
    "    'overlap_test': 'rmse',\n",
    "    \"popSize\": 30,\n",
    "    \"thrSVO\": 0.2,\n",
    "    \"nNeurons\": 50,\n",
    "}\n",
    "    \n",
    "params2 = {\n",
    "    \"popSeed\": 978,\n",
    "    \"tau\": 16.5,\n",
    "    \"alpha\": 0.02,\n",
    "    \"gamma\": 0.79\n",
    "}\n",
    "\n",
    "args = params | params2\n",
    "\n",
    "agents = makePopulation(args)\n",
    "IDs = [agent.ID for agent in agents]\n",
    "\n",
    "rng = args['popSeed']\n",
    "dfs = []\n",
    "for i in range(args['nIter']+1):\n",
    "    for agent in agents: agent.reinitialize(args['player'])\n",
    "    df = run(agents, nGames=args['nGames'], opponent=args[\"opponent\"], t4tSeed=i).query(\"ID in @IDs\")\n",
    "    df['t4tSeed'] = [i for _ in range(df.shape[0])]\n",
    "    dfs.append(df)\n",
    "\n",
    "data = pd.concat(dfs, ignore_index=True)"
   ]
  },
  {
   "cell_type": "code",
   "execution_count": 25,
   "id": "c49caf64",
   "metadata": {},
   "outputs": [
    {
     "name": "stdout",
     "output_type": "stream",
     "text": [
      "147 agents selected\n",
      "proself 50, prosocial 97\n"
     ]
    }
   ],
   "source": [
    "pop, selected = selectLearners(agents, data)\n",
    "sim, nProself, nProsocial = addLabel(pop, selected, args)\n",
    "print(f\"proself {nProself}, prosocial {nProsocial}\")\n",
    "sim.to_pickle(f\"data/{params['architecture']}_vs_greedy_trustee_violin.pkl\")"
   ]
  },
  {
   "cell_type": "code",
   "execution_count": 26,
   "id": "a51e59cd",
   "metadata": {},
   "outputs": [
    {
     "name": "stdout",
     "output_type": "stream",
     "text": [
      "p-value annotation legend:\n",
      "      ns: p <= 1.00e+00\n",
      "       *: 1.00e-02 < p <= 5.00e-02\n",
      "      **: 1.00e-03 < p <= 1.00e-02\n",
      "     ***: 1.00e-04 < p <= 1.00e-03\n",
      "    ****: p <= 1.00e-04\n",
      "\n",
      "proself vs. prosocial: t-test independent samples, P_val:3.526e-01 t=-9.302e-01\n",
      "p-value annotation legend:\n",
      "      ns: p <= 1.00e+00\n",
      "       *: 1.00e-02 < p <= 5.00e-02\n",
      "      **: 1.00e-03 < p <= 1.00e-02\n",
      "     ***: 1.00e-04 < p <= 1.00e-03\n",
      "    ****: p <= 1.00e-04\n",
      "\n",
      "proself vs. prosocial: t-test independent samples, P_val:4.864e-01 t=6.961e-01\n"
     ]
    },
    {
     "data": {
      "image/png": "[encoded data removed]",
      "text/plain": [
       "<Figure size 638x200 with 2 Axes>"
      ]
     },
     "metadata": {},
     "output_type": "display_data"
    }
   ],
   "source": [
    "player = args['player']\n",
    "opponent = args['opponent']\n",
    "emp = pd.read_pickle(\"data/human_data_cleaned.pkl\").query('player==@player & opponent==@opponent')\n",
    "tTestAndPlot(emp, sim, args, 'generosity')"
   ]
  },
  {
   "cell_type": "code",
   "execution_count": 23,
   "id": "412433d3",
   "metadata": {},
   "outputs": [],
   "source": [
    "generalizePlot(pop, sim, args)"
   ]
  },
  {
   "cell_type": "code",
   "execution_count": 56,
   "id": "7279cdb2",
   "metadata": {},
   "outputs": [],
   "source": [
    "# for agent in pop:\n",
    "#     aid = agent.ID\n",
    "#     print(agent.ID, agent.w_i, agent.w_o)\n",
    "#     print(sim.query(\"ID==@aid\")['orientation'].unique())"
   ]
  },
  {
   "cell_type": "markdown",
   "id": "bda82029",
   "metadata": {},
   "source": [
    "# IBL vs Greedy Trustee"
   ]
  },
  {
   "cell_type": "code",
   "execution_count": 10,
   "id": "8f6bce4f",
   "metadata": {},
   "outputs": [],
   "source": [
    "params = {\n",
    "    \"architecture\": \"IBL\",\n",
    "    \"player\": \"investor\",\n",
    "    \"opponent\": \"greedy\",\n",
    "    \"nAgents\": 300,\n",
    "    \"nIter\": 3,\n",
    "    'nGames': 15,\n",
    "    \"explore\": 'exponential',\n",
    "    \"update\": 'Q-learning',\n",
    "    \"w_s\": 1,\n",
    "    \"w_o\": 0.3,\n",
    "    \"w_i\": 0.3,\n",
    "    \"nFinal\": 3,\n",
    "    \"optimize_target\": 'final',\n",
    "    'overlap_test': 'rmse',\n",
    "    \"popSize\": 40,\n",
    "    \"thrSVO\": 0.2,\n",
    "}\n",
    "    \n",
    "params2 = {\n",
    "    \"popSeed\": 430,\n",
    "    \"decay\": 0.78,\n",
    "    \"sigma\": 0.34,\n",
    "    \"thrA\": -1.71,\n",
    "    \"tau\": 8,\n",
    "    \"gamma\": 0.31\n",
    "}\n",
    "\n",
    "args = params | params2"
   ]
  },
  {
   "cell_type": "code",
   "execution_count": 4,
   "id": "8dbb7765",
   "metadata": {},
   "outputs": [],
   "source": [
    "agents = makePopulation(args)\n",
    "IDs = [agent.ID for agent in agents]\n",
    "\n",
    "rng = args['popSeed']\n",
    "dfs = []\n",
    "for i in range(args['nIter']+1):\n",
    "    for agent in agents: agent.reinitialize(args['player'])\n",
    "    df = run(agents, nGames=args['nGames'], opponent=args[\"opponent\"], t4tSeed=i).query(\"ID in @IDs\")\n",
    "    df['t4tSeed'] = [i for _ in range(df.shape[0])]\n",
    "    dfs.append(df)\n",
    "\n",
    "data = pd.concat(dfs, ignore_index=True)"
   ]
  },
  {
   "cell_type": "code",
   "execution_count": 12,
   "id": "807c262c",
   "metadata": {},
   "outputs": [
    {
     "name": "stdout",
     "output_type": "stream",
     "text": [
      "125 agents selected\n",
      "proself 36, prosocial 89\n"
     ]
    }
   ],
   "source": [
    "pop, selected = selectLearners(agents, data)\n",
    "sim, nProself, nProsocial = addLabel(pop, selected, args)\n",
    "print(f\"proself {nProself}, prosocial {nProsocial}\")\n",
    "sim.to_pickle(f\"data/{params['architecture']}_vs_greedy_trustee_violin.pkl\")"
   ]
  },
  {
   "cell_type": "code",
   "execution_count": 13,
   "id": "11c33964",
   "metadata": {},
   "outputs": [
    {
     "name": "stdout",
     "output_type": "stream",
     "text": [
      "p-value annotation legend:\n",
      "      ns: p <= 1.00e+00\n",
      "       *: 1.00e-02 < p <= 5.00e-02\n",
      "      **: 1.00e-03 < p <= 1.00e-02\n",
      "     ***: 1.00e-04 < p <= 1.00e-03\n",
      "    ****: p <= 1.00e-04\n",
      "\n",
      "proself vs. prosocial: t-test independent samples, P_val:3.526e-01 t=-9.302e-01\n",
      "p-value annotation legend:\n",
      "      ns: p <= 1.00e+00\n",
      "       *: 1.00e-02 < p <= 5.00e-02\n",
      "      **: 1.00e-03 < p <= 1.00e-02\n",
      "     ***: 1.00e-04 < p <= 1.00e-03\n",
      "    ****: p <= 1.00e-04\n",
      "\n",
      "proself vs. prosocial: t-test independent samples, P_val:5.364e-02 t=1.930e+00\n"
     ]
    },
    {
     "data": {
      "image/png": "[encoded data removed]",
      "text/plain": [
       "<Figure size 638x200 with 2 Axes>"
      ]
     },
     "metadata": {},
     "output_type": "display_data"
    }
   ],
   "source": [
    "player = args['player']\n",
    "opponent = args['opponent']\n",
    "emp = pd.read_pickle(\"data/human_data_cleaned.pkl\").query('player==@player & opponent==@opponent')\n",
    "tTestAndPlot(emp, sim, args, 'generosity')"
   ]
  },
  {
   "cell_type": "code",
   "execution_count": 77,
   "id": "efbaf6c6",
   "metadata": {},
   "outputs": [],
   "source": [
    "retestAndPlot(pop, sim, args)"
   ]
  },
  {
   "cell_type": "code",
   "execution_count": null,
   "id": "201fb83d",
   "metadata": {},
   "outputs": [],
   "source": []
  }
 ],
 "metadata": {
  "kernelspec": {
   "display_name": "Python 3 (ipykernel)",
   "language": "python",
   "name": "python3"
  },
  "language_info": {
   "codemirror_mode": {
    "name": "ipython",
    "version": 3
   },
   "file_extension": ".py",
   "mimetype": "text/x-python",
   "name": "python",
   "nbconvert_exporter": "python",
   "pygments_lexer": "ipython3",
   "version": "3.10.6"
  }
 },
 "nbformat": 4,
 "nbformat_minor": 5
}
